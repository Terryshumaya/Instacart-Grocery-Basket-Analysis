{
 "cells": [
  {
   "cell_type": "code",
   "execution_count": 1,
   "id": "8b0a63ee-390d-45d1-a723-24b12ca91715",
   "metadata": {},
   "outputs": [],
   "source": [
    "# Import libraries\n",
    "import pandas as pd\n",
    "import numpy as np\n",
    "import os"
   ]
  },
  {
   "cell_type": "markdown",
   "id": "341f4e62-2e37-4eae-bace-66929fc43fb0",
   "metadata": {},
   "source": [
    "02 Data types"
   ]
  },
  {
   "cell_type": "code",
   "execution_count": 5,
   "id": "fd732f3c-1ffc-4a92-868c-ba9197b73194",
   "metadata": {},
   "outputs": [],
   "source": [
    "#Coding in 3 different ways to reach the result of 100 by adding or subtracting numeric values"
   ]
  },
  {
   "cell_type": "code",
   "execution_count": 2,
   "id": "e06a28f9-f04b-4057-bb02-a7794e5f2146",
   "metadata": {},
   "outputs": [],
   "source": [
    "X = 150"
   ]
  },
  {
   "cell_type": "code",
   "execution_count": 3,
   "id": "d43394ef-4d66-401d-8cd0-bcdc417d8b62",
   "metadata": {},
   "outputs": [],
   "source": [
    "Y = 50"
   ]
  },
  {
   "cell_type": "code",
   "execution_count": 5,
   "id": "9cc1dba2-8422-48b9-b159-a05fc86e67ee",
   "metadata": {},
   "outputs": [
    {
     "data": {
      "text/plain": [
       "100"
      ]
     },
     "execution_count": 5,
     "metadata": {},
     "output_type": "execute_result"
    }
   ],
   "source": [
    "X - Y"
   ]
  },
  {
   "cell_type": "code",
   "execution_count": 16,
   "id": "f5dc9c3d-fd7b-46b3-8044-c73c646d3110",
   "metadata": {},
   "outputs": [],
   "source": [
    "X = 24"
   ]
  },
  {
   "cell_type": "code",
   "execution_count": 17,
   "id": "0b68a3f0-1a7f-4d45-b9c1-bf5c888d9507",
   "metadata": {},
   "outputs": [],
   "source": [
    "Y = 49"
   ]
  },
  {
   "cell_type": "code",
   "execution_count": 18,
   "id": "e98d11bc-95d3-4436-bf85-f2f2f0112ae3",
   "metadata": {},
   "outputs": [],
   "source": [
    "Z = 27"
   ]
  },
  {
   "cell_type": "code",
   "execution_count": 19,
   "id": "1cf591d0-2ae5-4a04-a7e4-a70c6b87dc68",
   "metadata": {},
   "outputs": [
    {
     "data": {
      "text/plain": [
       "100"
      ]
     },
     "execution_count": 19,
     "metadata": {},
     "output_type": "execute_result"
    }
   ],
   "source": [
    "X + Y + Z"
   ]
  },
  {
   "cell_type": "code",
   "execution_count": 20,
   "id": "50735001-65f1-4aca-b46c-279554f6fd18",
   "metadata": {},
   "outputs": [],
   "source": [
    "X = 250"
   ]
  },
  {
   "cell_type": "code",
   "execution_count": 21,
   "id": "b14684f3-743f-43ce-aca7-294f4aa3b494",
   "metadata": {},
   "outputs": [],
   "source": [
    "Y = 200"
   ]
  },
  {
   "cell_type": "code",
   "execution_count": 22,
   "id": "4d1c8879-0feb-407f-808f-4d0e5a172a61",
   "metadata": {},
   "outputs": [],
   "source": [
    "Z = 50"
   ]
  },
  {
   "cell_type": "code",
   "execution_count": 25,
   "id": "0d5d51c9-4fda-4eec-98ff-77e8c27b173f",
   "metadata": {},
   "outputs": [
    {
     "data": {
      "text/plain": [
       "100"
      ]
     },
     "execution_count": 25,
     "metadata": {},
     "output_type": "execute_result"
    }
   ],
   "source": [
    "X - Y + Z"
   ]
  },
  {
   "cell_type": "code",
   "execution_count": null,
   "id": "b5dde15b-9cae-4b64-92a1-cbc7582409b4",
   "metadata": {},
   "outputs": [],
   "source": [
    "# Code 2 floating-point variables and divide by each other"
   ]
  },
  {
   "cell_type": "code",
   "execution_count": 26,
   "id": "c55de5d4-882a-4a37-b05c-22c61c310455",
   "metadata": {},
   "outputs": [],
   "source": [
    "c = 21.90"
   ]
  },
  {
   "cell_type": "code",
   "execution_count": 27,
   "id": "ad983fde-2868-40f5-a0dd-bcab9dead269",
   "metadata": {},
   "outputs": [],
   "source": [
    "d = 7.21"
   ]
  },
  {
   "cell_type": "code",
   "execution_count": 28,
   "id": "317d6f99-4415-4eb8-9bb6-41fd69c5c7f7",
   "metadata": {},
   "outputs": [
    {
     "data": {
      "text/plain": [
       "3.0374479889042996"
      ]
     },
     "execution_count": 28,
     "metadata": {},
     "output_type": "execute_result"
    }
   ],
   "source": [
    "c / d"
   ]
  },
  {
   "cell_type": "code",
   "execution_count": 39,
   "id": "687321bb-6c29-4d95-970f-fe0898043889",
   "metadata": {},
   "outputs": [],
   "source": [
    "# construct a short word made of separate strings."
   ]
  },
  {
   "cell_type": "code",
   "execution_count": 40,
   "id": "88577fe8-131a-4fcc-91e9-712c4ddf71d2",
   "metadata": {},
   "outputs": [],
   "source": [
    "a = 'Ter'"
   ]
  },
  {
   "cell_type": "code",
   "execution_count": 41,
   "id": "46282c49-7a56-46f4-a202-0a0715f73864",
   "metadata": {},
   "outputs": [],
   "source": [
    "b = 'ence'"
   ]
  },
  {
   "cell_type": "code",
   "execution_count": 42,
   "id": "d2ef7946-3f0c-4b94-aeb2-20124d1fb6ea",
   "metadata": {},
   "outputs": [
    {
     "data": {
      "text/plain": [
       "'Terence'"
      ]
     },
     "execution_count": 42,
     "metadata": {},
     "output_type": "execute_result"
    }
   ],
   "source": [
    "a + b "
   ]
  },
  {
   "cell_type": "code",
   "execution_count": 43,
   "id": "6d9f4004-268f-4e02-a006-2d61131dfa70",
   "metadata": {},
   "outputs": [],
   "source": [
    "# Constructing 2 short sentences made of separate strings"
   ]
  },
  {
   "cell_type": "code",
   "execution_count": 57,
   "id": "6b7fc83e-f1f3-4ff1-ad14-8f39686f75f1",
   "metadata": {},
   "outputs": [],
   "source": [
    "e = 'I highly recommend Carreerfoundry. '"
   ]
  },
  {
   "cell_type": "code",
   "execution_count": 58,
   "id": "12f31140-a621-4a17-b49f-9437068169d8",
   "metadata": {},
   "outputs": [],
   "source": [
    "f = 'Their tutors and mentors are always ready to assist.'"
   ]
  },
  {
   "cell_type": "code",
   "execution_count": 59,
   "id": "baa8cca5-6041-497f-b514-1766932642e1",
   "metadata": {},
   "outputs": [
    {
     "data": {
      "text/plain": [
       "'I highly recommend Carreerfoundry. Their tutors and mentors are always ready to assist.'"
      ]
     },
     "execution_count": 59,
     "metadata": {},
     "output_type": "execute_result"
    }
   ],
   "source": [
    "e + f"
   ]
  },
  {
   "cell_type": "code",
   "execution_count": 70,
   "id": "66056e3b-1996-47fc-8207-002a43b55d0d",
   "metadata": {},
   "outputs": [],
   "source": [
    "# Bonus Task"
   ]
  },
  {
   "cell_type": "code",
   "execution_count": 71,
   "id": "9c679835-bf5d-4f1f-ac18-cafe17ce9b81",
   "metadata": {},
   "outputs": [
    {
     "name": "stdout",
     "output_type": "stream",
     "text": [
      "I highly recommend Carreerfoundry. Their tutors and mentors are always ready to assist.I highly recommend Carreerfoundry. Their tutors and mentors are always ready to assist.I highly recommend Carreerfoundry. Their tutors and mentors are always ready to assist.I highly recommend Carreerfoundry. Their tutors and mentors are always ready to assist.I highly recommend Carreerfoundry. Their tutors and mentors are always ready to assist.I highly recommend Carreerfoundry. Their tutors and mentors are always ready to assist.I highly recommend Carreerfoundry. Their tutors and mentors are always ready to assist.I highly recommend Carreerfoundry. Their tutors and mentors are always ready to assist.I highly recommend Carreerfoundry. Their tutors and mentors are always ready to assist.I highly recommend Carreerfoundry. Their tutors and mentors are always ready to assist.I highly recommend Carreerfoundry. Their tutors and mentors are always ready to assist.I highly recommend Carreerfoundry. Their tutors and mentors are always ready to assist.I highly recommend Carreerfoundry. Their tutors and mentors are always ready to assist.I highly recommend Carreerfoundry. Their tutors and mentors are always ready to assist.I highly recommend Carreerfoundry. Their tutors and mentors are always ready to assist.I highly recommend Carreerfoundry. Their tutors and mentors are always ready to assist.I highly recommend Carreerfoundry. Their tutors and mentors are always ready to assist.I highly recommend Carreerfoundry. Their tutors and mentors are always ready to assist.I highly recommend Carreerfoundry. Their tutors and mentors are always ready to assist.I highly recommend Carreerfoundry. Their tutors and mentors are always ready to assist.I highly recommend Carreerfoundry. Their tutors and mentors are always ready to assist.I highly recommend Carreerfoundry. Their tutors and mentors are always ready to assist.I highly recommend Carreerfoundry. Their tutors and mentors are always ready to assist.I highly recommend Carreerfoundry. Their tutors and mentors are always ready to assist.I highly recommend Carreerfoundry. Their tutors and mentors are always ready to assist.I highly recommend Carreerfoundry. Their tutors and mentors are always ready to assist.I highly recommend Carreerfoundry. Their tutors and mentors are always ready to assist.I highly recommend Carreerfoundry. Their tutors and mentors are always ready to assist.I highly recommend Carreerfoundry. Their tutors and mentors are always ready to assist.I highly recommend Carreerfoundry. Their tutors and mentors are always ready to assist.I highly recommend Carreerfoundry. Their tutors and mentors are always ready to assist.I highly recommend Carreerfoundry. Their tutors and mentors are always ready to assist.I highly recommend Carreerfoundry. Their tutors and mentors are always ready to assist.I highly recommend Carreerfoundry. Their tutors and mentors are always ready to assist.I highly recommend Carreerfoundry. Their tutors and mentors are always ready to assist.I highly recommend Carreerfoundry. Their tutors and mentors are always ready to assist.I highly recommend Carreerfoundry. Their tutors and mentors are always ready to assist.I highly recommend Carreerfoundry. Their tutors and mentors are always ready to assist.I highly recommend Carreerfoundry. Their tutors and mentors are always ready to assist.I highly recommend Carreerfoundry. Their tutors and mentors are always ready to assist.I highly recommend Carreerfoundry. Their tutors and mentors are always ready to assist.I highly recommend Carreerfoundry. Their tutors and mentors are always ready to assist.I highly recommend Carreerfoundry. Their tutors and mentors are always ready to assist.I highly recommend Carreerfoundry. Their tutors and mentors are always ready to assist.I highly recommend Carreerfoundry. Their tutors and mentors are always ready to assist.I highly recommend Carreerfoundry. Their tutors and mentors are always ready to assist.I highly recommend Carreerfoundry. Their tutors and mentors are always ready to assist.I highly recommend Carreerfoundry. Their tutors and mentors are always ready to assist.I highly recommend Carreerfoundry. Their tutors and mentors are always ready to assist.I highly recommend Carreerfoundry. Their tutors and mentors are always ready to assist.I highly recommend Carreerfoundry. Their tutors and mentors are always ready to assist.I highly recommend Carreerfoundry. Their tutors and mentors are always ready to assist.I highly recommend Carreerfoundry. Their tutors and mentors are always ready to assist.I highly recommend Carreerfoundry. Their tutors and mentors are always ready to assist.I highly recommend Carreerfoundry. Their tutors and mentors are always ready to assist.I highly recommend Carreerfoundry. Their tutors and mentors are always ready to assist.I highly recommend Carreerfoundry. Their tutors and mentors are always ready to assist.I highly recommend Carreerfoundry. Their tutors and mentors are always ready to assist.I highly recommend Carreerfoundry. Their tutors and mentors are always ready to assist.I highly recommend Carreerfoundry. Their tutors and mentors are always ready to assist.I highly recommend Carreerfoundry. Their tutors and mentors are always ready to assist.I highly recommend Carreerfoundry. Their tutors and mentors are always ready to assist.I highly recommend Carreerfoundry. Their tutors and mentors are always ready to assist.I highly recommend Carreerfoundry. Their tutors and mentors are always ready to assist.I highly recommend Carreerfoundry. Their tutors and mentors are always ready to assist.I highly recommend Carreerfoundry. Their tutors and mentors are always ready to assist.I highly recommend Carreerfoundry. Their tutors and mentors are always ready to assist.I highly recommend Carreerfoundry. Their tutors and mentors are always ready to assist.I highly recommend Carreerfoundry. Their tutors and mentors are always ready to assist.I highly recommend Carreerfoundry. Their tutors and mentors are always ready to assist.I highly recommend Carreerfoundry. Their tutors and mentors are always ready to assist.I highly recommend Carreerfoundry. Their tutors and mentors are always ready to assist.I highly recommend Carreerfoundry. Their tutors and mentors are always ready to assist.I highly recommend Carreerfoundry. Their tutors and mentors are always ready to assist.I highly recommend Carreerfoundry. Their tutors and mentors are always ready to assist.I highly recommend Carreerfoundry. Their tutors and mentors are always ready to assist.I highly recommend Carreerfoundry. Their tutors and mentors are always ready to assist.I highly recommend Carreerfoundry. Their tutors and mentors are always ready to assist.I highly recommend Carreerfoundry. Their tutors and mentors are always ready to assist.I highly recommend Carreerfoundry. Their tutors and mentors are always ready to assist.I highly recommend Carreerfoundry. Their tutors and mentors are always ready to assist.I highly recommend Carreerfoundry. Their tutors and mentors are always ready to assist.I highly recommend Carreerfoundry. Their tutors and mentors are always ready to assist.I highly recommend Carreerfoundry. Their tutors and mentors are always ready to assist.I highly recommend Carreerfoundry. Their tutors and mentors are always ready to assist.I highly recommend Carreerfoundry. Their tutors and mentors are always ready to assist.I highly recommend Carreerfoundry. Their tutors and mentors are always ready to assist.I highly recommend Carreerfoundry. Their tutors and mentors are always ready to assist.I highly recommend Carreerfoundry. Their tutors and mentors are always ready to assist.I highly recommend Carreerfoundry. Their tutors and mentors are always ready to assist.I highly recommend Carreerfoundry. Their tutors and mentors are always ready to assist.I highly recommend Carreerfoundry. Their tutors and mentors are always ready to assist.I highly recommend Carreerfoundry. Their tutors and mentors are always ready to assist.I highly recommend Carreerfoundry. Their tutors and mentors are always ready to assist.I highly recommend Carreerfoundry. Their tutors and mentors are always ready to assist.I highly recommend Carreerfoundry. Their tutors and mentors are always ready to assist.I highly recommend Carreerfoundry. Their tutors and mentors are always ready to assist.I highly recommend Carreerfoundry. Their tutors and mentors are always ready to assist.I highly recommend Carreerfoundry. Their tutors and mentors are always ready to assist.I highly recommend Carreerfoundry. Their tutors and mentors are always ready to assist.\n"
     ]
    }
   ],
   "source": [
    "print((e + f) * 100)"
   ]
  },
  {
   "cell_type": "code",
   "execution_count": null,
   "id": "55ae3375-d47a-4b83-821a-42f19fa59911",
   "metadata": {},
   "outputs": [],
   "source": []
  }
 ],
 "metadata": {
  "kernelspec": {
   "display_name": "Python 3 (ipykernel)",
   "language": "python",
   "name": "python3"
  },
  "language_info": {
   "codemirror_mode": {
    "name": "ipython",
    "version": 3
   },
   "file_extension": ".py",
   "mimetype": "text/x-python",
   "name": "python",
   "nbconvert_exporter": "python",
   "pygments_lexer": "ipython3",
   "version": "3.12.7"
  }
 },
 "nbformat": 4,
 "nbformat_minor": 5
}
